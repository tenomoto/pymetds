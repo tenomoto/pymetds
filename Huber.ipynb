{
 "cells": [
  {
   "cell_type": "markdown",
   "id": "7a819d4f",
   "metadata": {},
   "source": [
    "(regression)=\n",
    "# 回帰分析\n",
    "\n",
    "回帰分析とは，データから二つの変数間の関係を求める手法です。二つの変数xとyとの関係が線型で表されると仮定すると\n",
    "\\begin{equation}\n",
    "y = ax+b \\label{ax+b}\n",
    "\\end{equation}\n",
    "となります。回帰係数$a$と$b$を機械学習ライブラリ[scikit-learn](https://scikit-learn.org/)を使って求めてみましょう。"
   ]
  },
  {
   "cell_type": "markdown",
   "id": "3024b100",
   "metadata": {},
   "source": [
    "## 最小二乗法\n",
    "　データとの誤差を最小にするには，分散が最小になるように回帰係数を決めます。これを最小二乗法と呼び，得られた回帰係数を最小分散推定量といいます。以下の例では，テストデータを作成して`sklearn.linear_model`の線型回帰`LinearRegression`を使っています。\n"
   ]
  },
  {
   "cell_type": "code",
   "execution_count": 3,
   "id": "cbfcdec5",
   "metadata": {
    "collapsed": true,
    "jupyter": {
     "outputs_hidden": true
    },
    "tags": [
     "remove-output"
    ]
   },
   "outputs": [
    {
     "data": {
      "text/plain": [
       "<matplotlib.legend.Legend at 0x220d40ad490>"
      ]
     },
     "execution_count": 3,
     "metadata": {},
     "output_type": "execute_result"
    },
    {
     "data": {
      "image/png": "[encoded data removed]",
      "text/plain": [
       "<Figure size 432x288 with 1 Axes>"
      ]
     },
     "metadata": {
      "needs_background": "light"
     },
     "output_type": "display_data"
    }
   ],
   "source": [
    "import numpy as np\n",
    "import matplotlib.pyplot as plt\n",
    " \n",
    "from sklearn.datasets import make_regression\n",
    "from sklearn.linear_model import LinearRegression\n",
    " \n",
    "fig, ax = plt.subplots()\n",
    " \n",
    "rng = np.random.RandomState(0)\n",
    "X, y = make_regression(n_samples=20, n_features=1, random_state=0,\n",
    "                      noise=4.0, bias=100.0)\n",
    " \n",
    "ax.plot(X, y, 'k.')\n",
    " \n",
    "x = np.linspace(X.min(), X.max(), 7)\n",
    "lin = LinearRegression()\n",
    "lin.fit(X, y)\n",
    "y_linear = lin.coef_ * x + lin.intercept_\n",
    "ax.set_title(f\"$a$={lin.coef_[0]:.2f} $b$={lin.intercept_:.2f}\")\n",
    "ax.plot(x, y_linear, label=\"Linear\")\n",
    "ax.legend()"
   ]
  },
  {
   "cell_type": "markdown",
   "id": "5b49d66d",
   "metadata": {},
   "source": [
    "![linear_outliers](figures/linear_outliers.png)"
   ]
  },
  {
   "cell_type": "markdown",
   "id": "9bd7b274",
   "metadata": {},
   "source": [
    "図1 線型回帰。青い実線は<span style=\"color:red;\">●</span>のみ，橙色の実線は外れ値<span style=\"color:blue;\">●</span>を含む全てのデータから推定した場合の回帰直線。"
   ]
  },
  {
   "cell_type": "markdown",
   "id": "2d227ce1",
   "metadata": {},
   "source": [
    "## ロバスト推定\n",
    "\n",
    "実際のデータには直線から大きく外れた値が含まれることがあります。これを外れ値といいます。最小二乗法は外れ値に大きく影響を受けます。上の例では傾きは正（$a=12.44$）でしたが, わずか4点外れ値が入るだけで負（$a=-4.36$）になってしまいます（図1 橙色の実線）。これは外れ値に近づけた方が全体として分散の和を最も小さくなるからです。\n",
    "\n",
    "二つの変数の適切な関係を得るために，通常外れ値は除去してから最小二乗法を適用します。ここで問題となるのは，どれだけ外れたものを除去すれば良いかということです。またビッグデータには質の悪い値が混入するする可能性があり，個別に閾値を設け一つ一つ取り除くのは現実的ではありません。さらに厄介なのは，外れ値が意味を持つ場合です。例えば，発達した低気圧や台風の中心が観測点を通過し，周りに比べて低い気圧を観測した場合が該当します。観測網やモデルの解像度が粗い場合は，たまたま観測できた中心気圧は観測点含む領域を代表する値ではない，つまり代表性誤差があるデータとみなされます。一方中心気圧は顕著な現象を捉えた貴重なデータともいえます。\n",
    "\n",
    "最小二乗法のように推定を大きく変えることがなく，外れ値を含めた推定は可能でしょうか。外れ値が推定に大きな影響を与えてしまったのは，最小分散を得るために大きな重みを与えていたからです。裏返せば，値が外れるほど重みを小さくすればよいということになります。最小二乗法では分散つまり誤差の二乗を規準（ノルム）として誤差を評価しているため，乖離が大きくなると急激に値が大きくなります。二乗の代わりに絶対値をノルムとして用いると，変化は穏やかになります。0に近いところでは二乗，離れたところでは絶対値を用いたものをHuberノルムといいます。Huberノルムに基づくコスト函数を数式で表すと次のようになります。"
   ]
  },
  {
   "cell_type": "markdown",
   "id": "16484727",
   "metadata": {},
   "source": [
    "\\begin{equation}\n",
    "J(\\delta x) = \n",
    "\\begin{cases}\n",
    "\\frac{1}{2}\\frac{(\\delta x)^2}{\\sigma^2} &|\\delta x| \\le c\\\\\n",
    "\\frac{1}{2}\\frac{c|\\delta x|-c^2/2}{\\sigma^2}& |\\delta x| > c\\\\\n",
    "\\end{cases} \\label{huberloss}\n",
    "\\end{equation}"
   ]
  },
  {
   "cell_type": "markdown",
   "id": "a6aa2d4d",
   "metadata": {},
   "source": [
    "ここで$J$はコスト函数，$\\delta x$はデータとの乖離，$\\sigma^2$は誤差分散，$c$は遷移点を表します。乖離の絶対値$|\\delta x|$が$c$よりも大きいところでは1次函数，$c$以下では2次函数になっています。"
   ]
  },
  {
   "cell_type": "markdown",
   "id": "7aed57cb",
   "metadata": {},
   "source": [
    "![quadratic-Huberc.png](figures/quadratic-Huberc.png)"
   ]
  },
  {
   "cell_type": "markdown",
   "id": "c5674e89",
   "metadata": {},
   "source": [
    "図2 二乗ノルムとHuberノルムとの比較。横軸は乖離$\\delta x$，縦軸は誤差を評価するコスト函数を表す。青は二乗ノルム，橙はHuberノルム。"
   ]
  },
  {
   "cell_type": "markdown",
   "id": "73d92ac8",
   "metadata": {},
   "source": [
    "高収入の人を含めると，平均年収が高い方に引きずられることはよく知られていますが，外れ値は平均値にも大きく影響します。これに対し，データを順に並べたときに中位になる値である中央値はあまり影響を受けません。外れ値の影響を受けにくい推定手法をロバスト（robust，頑強）推定といいいます。Huberノルムを用いた回帰はロバスト推定の一つです。\n",
    "\n",
    "scikit-learnの`sklearn.linear_model`の`LinearRegression`を`HuberRegressor`に替えて，遷移点を指定するとHuber回帰ができます。"
   ]
  },
  {
   "cell_type": "code",
   "execution_count": 20,
   "id": "e6f9c4eb",
   "metadata": {
    "collapsed": true,
    "jupyter": {
     "outputs_hidden": true
    },
    "tags": [
     "remove-output"
    ]
   },
   "outputs": [
    {
     "data": {
      "text/plain": [
       "<matplotlib.legend.Legend at 0x213c7ea0e20>"
      ]
     },
     "execution_count": 20,
     "metadata": {},
     "output_type": "execute_result"
    },
    {
     "data": {
      "image/png": "[encoded data removed]",
      "text/plain": [
       "<Figure size 432x288 with 1 Axes>"
      ]
     },
     "metadata": {
      "needs_background": "light"
     },
     "output_type": "display_data"
    }
   ],
   "source": [
    "import numpy as np\n",
    "import matplotlib.pyplot as plt\n",
    " \n",
    "from sklearn.datasets import make_regression\n",
    "from sklearn.linear_model import LinearRegression, HuberRegressor\n",
    " \n",
    "fig, ax = plt.subplots()\n",
    " \n",
    "rng = np.random.RandomState(0)\n",
    "X, y = make_regression(n_samples=20, n_features=1, random_state=0,\n",
    "                      noise=4.0, bias=100.0)\n",
    " \n",
    "Xo = rng.normal(0, 0.5, size=(4, 1))\n",
    "yo = rng.normal(0, 2.0, size=4)\n",
    "Xo[:2, :] += X.max() + X.mean() / 4\n",
    "Xo[2:, :] += X.min() - X.mean() / 4\n",
    "yo[:2] += y.min() - y.mean() / 4\n",
    "yo[2:] += y.max() + y.mean() / 4\n",
    "X = np.vstack([X, Xo])\n",
    "y = np.concatenate([y, yo])\n",
    "ax.plot(X, y, 'k.')\n",
    " \n",
    "x = np.linspace(X.min(), X.max(), 7)\n",
    "lin = LinearRegression()\n",
    "lin.fit(X, y)\n",
    "y_linear = lin.coef_ * x + lin.intercept_\n",
    "ax.plot(x, y_linear, label=\"Linear\")\n",
    "c = 1.5\n",
    "hub = HuberRegressor(alpha=0.0, epsilon=c)\n",
    "hub.fit(X, y)\n",
    "y_huber = hub.coef_ * x + hub.intercept_\n",
    "ax.plot(x, y_huber, label=f\"Huber {c}\")\n",
    "ax.legend()"
   ]
  },
  {
   "cell_type": "markdown",
   "id": "badf7a41",
   "metadata": {},
   "source": [
    "![Linear_vs_Huber](figures/Linear_vs_Huber.png)"
   ]
  },
  {
   "cell_type": "markdown",
   "id": "4cd33f47",
   "metadata": {},
   "source": [
    "図3 線型回帰（青い実線）とHuber回帰（橙色の実線）。データは図1と同様。"
   ]
  },
  {
   "cell_type": "markdown",
   "id": "55451dcc",
   "metadata": {},
   "source": [
    "Huber回帰で得られた直線の傾きは$a=8.87$で，外れ値を除いた場合よりやや小さくなりましたが，外れ値の値を強く受けていないことが分かります。Huberノルムは，現業数値予報機関においてラジオゾンデデータ等現場観測の品質管理に用いられています。"
   ]
  }
 ],
 "metadata": {
  "celltoolbar": "Tags",
  "kernelspec": {
   "display_name": "Python 3 (ipykernel)",
   "language": "python",
   "name": "python3"
  },
  "language_info": {
   "codemirror_mode": {
    "name": "ipython",
    "version": 3
   },
   "file_extension": ".py",
   "mimetype": "text/x-python",
   "name": "python",
   "nbconvert_exporter": "python",
   "pygments_lexer": "ipython3",
   "version": "3.9.6"
  }
 },
 "nbformat": 4,
 "nbformat_minor": 5
}
