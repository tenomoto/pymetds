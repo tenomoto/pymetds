{
 "cells": [
  {
   "cell_type": "markdown",
   "id": "7a819d4f",
   "metadata": {},
   "source": [
    "(regression)=\n",
    "# 回帰分析\n",
    "\n",
    "回帰分析とは，データから二つの変数間の関係を求める手法です。二つの変数xとyとの関係が線型で表されると仮定すると\n",
    "\\begin{equation}\n",
    "y = ax+b \\label{ax+b}\n",
    "\\end{equation}\n",
    "となります。回帰係数$a$と$b$を機械学習ライブラリ[scikit-learn](https://scikit-learn.org/)を使って求めてみましょう。"
   ]
  },
  {
   "cell_type": "markdown",
   "id": "3024b100",
   "metadata": {},
   "source": [
    "## 最小二乗法\n",
    "　データとの誤差を最小にするには，分散が最小になるように回帰係数を決めます。これを最小二乗法と呼び，得られた回帰係数を最小分散推定量といいます。以下の例では，テストデータを作成して`sklearn.linear_model`の線型回帰`LinearRegression`を使っています。\n"
   ]
  },
  {
   "cell_type": "code",
   "execution_count": 3,
   "id": "cbfcdec5",
   "metadata": {
    "collapsed": true,
    "jupyter": {
     "outputs_hidden": true
    },
    "tags": [
     "remove-output"
    ]
   },
   "outputs": [
    {
     "data": {
      "text/plain": [
       "<matplotlib.legend.Legend at 0x220d40ad490>"
      ]
     },
     "execution_count": 3,
     "metadata": {},
     "output_type": "execute_result"
    },
    {
     "data": {
      "image/png": "[encoded data removed]",
      "text/plain": [
       "<Figure size 432x288 with 1 Axes>"
      ]
     },
     "metadata": {
      "needs_background": "light"
     },
     "output_type": "display_data"
    }
   ],
   "source": [
    "import numpy as np\n",
    "import matplotlib.pyplot as plt\n",
    " \n",
    "from sklearn.datasets import make_regression\n",
    "from sklearn.linear_model import LinearRegression\n",
    " \n",
    "fig, ax = plt.subplots()\n",
    " \n",
    "rng = np.random.RandomState(0)\n",
    "X, y = make_regression(n_samples=20, n_features=1, random_state=0,\n",
    "                      noise=4.0, bias=100.0)\n",
    " \n",
    "ax.plot(X, y, 'k.')\n",
    " \n",
    "x = np.linspace(X.min(), X.max(), 7)\n",
    "lin = LinearRegression()\n",
    "lin.fit(X, y)\n",
    "y_linear = lin.coef_ * x + lin.intercept_\n",
    "ax.set_title(f\"$a$={lin.coef_[0]:.2f} $b$={lin.intercept_:.2f}\")\n",
    "ax.plot(x, y_linear, label=\"Linear\")\n",
    "ax.legend()"
   ]
  },
  {
   "cell_type": "markdown",
   "id": "5b49d66d",
   "metadata": {},
   "source": [
    "![linear_outliers](figures/linear_outliers.png)"
   ]
  },
  {
   "cell_type": "markdown",
   "id": "9bd7b274",
   "metadata": {},
   "source": [
    "図1 線型回帰。青い実線は<span style=\"color:red;\">●</span>のみ，橙色の実線は外れ値<span style=\"color:blue;\">●</span>を含む全てのデータから推定した場合の回帰直線。"
   ]
  },
  {
   "cell_type": "markdown",
   "id": "2d227ce1",
   "metadata": {},
   "source": [
    "## ロバスト推定\n",
    "\n",
    "実際のデータには直線から大きく外れた値が含まれることがあります。これを外れ値といいます。最小二乗法は外れ値に大きく影響を受けます。上の例では傾きは正（$a=12.44$）でしたが, わずか4点外れ値が入るだけで負（$a=-4.36$）になってしまいます（図1 橙色の実線）。これは外れ値に近づけた方が全体として分散の和を最も小さくなるからです。\n",
    "\n",
    "二つの変数の適切な関係を得るために，通常外れ値は除去してから最小二乗法を適用します。ここで問題となるのは，どれだけ外れたものを除去すれば良いかということです。またビッグデータには質の悪い値が混入するする可能性があり，個別に閾値を設け一つ一つ取り除くのは現実的ではありません。さらに厄介なのは，外れ値が意味を持つ場合です。例えば，発達した低気圧や台風の中心が観測点を通過し，周りに比べて低い気圧を観測した場合が該当します。観測網やモデルの解像度が粗い場合は，たまたま観測できた中心気圧は観測点含む領域を代表する値ではない，つまり代表性誤差があるデータとみなされます。一方中心気圧は顕著な現象を捉えた貴重なデータともいえます。\n",
    "\n",
    "最小二乗法のように推定を大きく変えることがなく，外れ値を含めた推定は可能でしょうか。外れ値が推定に大きな影響を与えてしまったのは，最小分散を得るために大きな重みを与えていたからです。裏返せば，値が外れるほど重みを小さくすればよいということになります。最小二乗法では分散つまり誤差の二乗を規準（ノルム）として誤差を評価しているため，乖離が大きくなると急激に値が大きくなります。二乗の代わりに絶対値をノルムとして用いると，変化は穏やかになります。0に近いところでは二乗，離れたところでは絶対値を用いたものをHuberノルムといいます。Huberノルムに基づくコスト函数を数式で表すと次のようになります。"
   ]
  },
  {
   "cell_type": "markdown",
   "id": "16484727",
   "metadata": {},
   "source": [
    "\\begin{equation}\n",
    "J(\\delta x) = \n",
    "\\begin{cases}\n",
    "\\frac{1}{2}\\frac{(\\delta x)^2}{\\sigma^2} &|\\delta x| \\le c\\\\\n",
    "\\frac{1}{2}\\frac{c|\\delta x|-c^2/2}{\\sigma^2}& |\\delta x| > c\\\\\n",
    "\\end{cases} \\label{huberloss}\n",
    "\\end{equation}"
   ]
  },
  {
   "cell_type": "markdown",
   "id": "a6aa2d4d",
   "metadata": {},
   "source": [
    "ここで$J$はコスト函数，$\\delta x$はデータとの乖離，$\\sigma^2$は誤差分散，$c$は遷移点を表します。乖離の絶対値$|\\delta x|$が$c$よりも大きいところでは1次函数，$c$以下では2次函数になっています。"
   ]
  },
  {
   "cell_type": "markdown",
   "id": "7aed57cb",
   "metadata": {},
   "source": [
    "![quadratic-Huberc.png](figures/quadratic-Huberc.png)"
   ]
  },
  {
   "cell_type": "markdown",
   "id": "c5674e89",
   "metadata": {},
   "source": [
    "図2 二乗ノルムとHuberノルムとの比較。横軸は乖離$\\delta x$，縦軸は誤差を評価するコスト函数を表す。青は二乗ノルム，橙はHuberノルム。"
   ]
  },
  {
   "cell_type": "markdown",
   "id": "73d92ac8",
   "metadata": {},
   "source": [
    "高収入の人を含めると，平均年収が高い方に引きずられることはよく知られていますが，外れ値は平均値にも大きく影響します。これに対し，データを順に並べたときに中位になる値である中央値はあまり影響を受けません。外れ値の影響を受けにくい推定手法をロバスト（robust，頑強）推定といいいます。Huberノルムを用いた回帰はロバスト推定の一つです。\n",
    "\n",
    "scikit-learnの`sklearn.linear_model`の`LinearRegression`を`HuberRegressor`に替えて，遷移点を指定するとHuber回帰ができます。"
   ]
  },
  {
   "cell_type": "code",
   "execution_count": 20,
   "id": "e6f9c4eb",
   "metadata": {
    "collapsed": true,
    "jupyter": {
     "outputs_hidden": true
    },
    "tags": [
     "remove-output"
    ]
   },
   "outputs": [
    {
     "data": {
      "text/plain": [
       "<matplotlib.legend.Legend at 0x213c7ea0e20>"
      ]
     },
     "execution_count": 20,
     "metadata": {},
     "output_type": "execute_result"
    },
    {
     "data": {
      "image/png": "[encoded data removed]",
      "text/plain": [
       "<Figure size 432x288 with 1 Axes>"
      ]
     },
     "metadata": {
      "needs_background": "light"
     },
     "output_type": "display_data"
    }
   ],
   "source": [
    "import numpy as np\n",
    "import matplotlib.pyplot as plt\n",
    " \n",
    "from sklearn.datasets import make_regression\n",
    "from sklearn.linear_model import LinearRegression, HuberRegressor\n",
    " \n",
    "fig, ax = plt.subplots()\n",
    " \n",
    "rng = np.random.RandomState(0)\n",
    "X, y = make_regression(n_samples=20, n_features=1, random_state=0,\n",
    "                      noise=4.0, bias=100.0)\n",
    " \n",
    "Xo = rng.normal(0, 0.5, size=(4, 1))\n",
    "yo = rng.normal(0, 2.0, size=4)\n",
    "Xo[:2, :] += X.max() + X.mean() / 4\n",
    "Xo[2:, :] += X.min() - X.mean() / 4\n",
    "yo[:2] += y.min() - y.mean() / 4\n",
    "yo[2:] += y.max() + y.mean() / 4\n",
    "X = np.vstack([X, Xo])\n",
    "y = np.concatenate([y, yo])\n",
    "ax.plot(X, y, 'k.')\n",
    " \n",
    "x = np.linspace(X.min(), X.max(), 7)\n",
    "lin = LinearRegression()\n",
    "lin.fit(X, y)\n",
    "y_linear = lin.coef_ * x + lin.intercept_\n",
    "ax.plot(x, y_linear, label=\"Linear\")\n",
    "c = 1.5\n",
    "hub = HuberRegressor(alpha=0.0, epsilon=c)\n",
    "hub.fit(X, y)\n",
    "y_huber = hub.coef_ * x + hub.intercept_\n",
    "ax.plot(x, y_huber, label=f\"Huber {c}\")\n",
    "ax.legend()"
   ]
  },
  {
   "cell_type": "markdown",
   "id": "badf7a41",
   "metadata": {},
   "source": [
    "![Linear_vs_Huber](figures/Linear_vs_Huber.png)"
   ]
  },
  {
   "cell_type": "markdown",
   "id": "4cd33f47",
   "metadata": {},
   "source": [
    "図3 線型回帰（青い実線）とHuber回帰（橙色の実線）。データは図1と同様。"
   ]
  },
  {
   "cell_type": "markdown",
   "id": "55451dcc",
   "metadata": {},
   "source": [
    "Huber回帰で得られた直線の傾きは$a=8.87$で，外れ値を除いた場合よりやや小さくなりましたが，外れ値の値を強く受けていないことが分かります。Huberノルムは，現業数値予報機関においてラジオゾンデデータ等現場観測の品質管理に用いられています。"
   ]
  },
  {
   "cell_type": "markdown",
   "id": "891a520c",
   "metadata": {},
   "source": [
    "## エルニーニョ現象\n",
    "\n",
    "エルニーニョ現象は東太平洋赤道付近の海面水温が平年よりも高くなる現象です。\n",
    "エルニーニョ現象が発生すると，日本は暖冬になることが多いとされています。\n",
    "気象庁が発表している[監視指数](https://www.data.jma.go.jp/gmd/cpd/data/elnino/index/dattab.html)（5か月移動平均値）と冬季日本域の気温偏差との関係{cite}`Shiozaki-etal:2021`を調べてみます。\n",
    "\n",
    "監視指数は処理しやすいCSV等では提供されていませんが，整形済みテキスト`pre`タグの中にデータがあるので，スクレイピングは非常に簡単です。\n",
    "まず`requests.get()`でデータを取得します。\n",
    "エンコーディングが正しくないので，`utf-8`にしていますが，データの部分に文字化けは影響しません。\n",
    "BeautifulSoupの`html.parser`を使って`pre`タグを探し，テキストとして保存します。"
   ]
  },
  {
   "cell_type": "code",
   "execution_count": 1,
   "id": "2dad288e",
   "metadata": {},
   "outputs": [],
   "source": [
    "import requests\n",
    "from bs4 import BeautifulSoup\n",
    "\n",
    "\n",
    "url = \"https://www.data.jma.go.jp/gmd/cpd/data/elnino/index/nino3irm.html\"\n",
    "fname = \"nino3.txt\"\n",
    "with requests.get(url) as response:\n",
    "    response.encoding = \"utf-8\"\n",
    "    soup = BeautifulSoup(response.text, \"html.parser\")\n",
    "    with open(fname, \"w\") as f:\n",
    "        f.write(soup.pre.text)"
   ]
  },
  {
   "cell_type": "markdown",
   "id": "b0f7662a",
   "metadata": {},
   "source": [
    "最初の行に月をヘッダとし，最初の列に年をインデックスとします。\n",
    "年の列が5桁，データは6桁で，まだテータのない欠損値は`99.9`です。"
   ]
  },
  {
   "cell_type": "code",
   "execution_count": 2,
   "id": "2556aac4",
   "metadata": {},
   "outputs": [],
   "source": [
    "import pandas as pd\n",
    "\n",
    "\n",
    "df = pd.read_fwf(fname, widths=[5]+[6]*12, header=0, index_col=0, na_values=99.9)"
   ]
  },
  {
   "cell_type": "markdown",
   "id": "7b86fdb6",
   "metadata": {},
   "source": [
    "`df`で中身を確認します。"
   ]
  },
  {
   "cell_type": "code",
   "execution_count": 3,
   "id": "4ac87b36",
   "metadata": {},
   "outputs": [
    {
     "data": {
      "text/html": [
       "<div>\n",
       "<style scoped>\n",
       "    .dataframe tbody tr th:only-of-type {\n",
       "        vertical-align: middle;\n",
       "    }\n",
       "\n",
       "    .dataframe tbody tr th {\n",
       "        vertical-align: top;\n",
       "    }\n",
       "\n",
       "    .dataframe thead th {\n",
       "        text-align: right;\n",
       "    }\n",
       "</style>\n",
       "<table border=\"1\" class=\"dataframe\">\n",
       "  <thead>\n",
       "    <tr style=\"text-align: right;\">\n",
       "      <th></th>\n",
       "      <th>Jan</th>\n",
       "      <th>Feb</th>\n",
       "      <th>Mar</th>\n",
       "      <th>Apr</th>\n",
       "      <th>May</th>\n",
       "      <th>Jun</th>\n",
       "      <th>Jul</th>\n",
       "      <th>Aug</th>\n",
       "      <th>Sep</th>\n",
       "      <th>Oct</th>\n",
       "      <th>Nov</th>\n",
       "      <th>Dec</th>\n",
       "    </tr>\n",
       "    <tr>\n",
       "      <th>year</th>\n",
       "      <th></th>\n",
       "      <th></th>\n",
       "      <th></th>\n",
       "      <th></th>\n",
       "      <th></th>\n",
       "      <th></th>\n",
       "      <th></th>\n",
       "      <th></th>\n",
       "      <th></th>\n",
       "      <th></th>\n",
       "      <th></th>\n",
       "      <th></th>\n",
       "    </tr>\n",
       "  </thead>\n",
       "  <tbody>\n",
       "    <tr>\n",
       "      <th>1949</th>\n",
       "      <td>-0.2</td>\n",
       "      <td>-0.1</td>\n",
       "      <td>0.1</td>\n",
       "      <td>0.0</td>\n",
       "      <td>-0.2</td>\n",
       "      <td>-0.3</td>\n",
       "      <td>-0.5</td>\n",
       "      <td>-0.8</td>\n",
       "      <td>-0.9</td>\n",
       "      <td>-1.0</td>\n",
       "      <td>-1.2</td>\n",
       "      <td>-1.2</td>\n",
       "    </tr>\n",
       "    <tr>\n",
       "      <th>1950</th>\n",
       "      <td>-1.2</td>\n",
       "      <td>-1.0</td>\n",
       "      <td>-0.9</td>\n",
       "      <td>-0.8</td>\n",
       "      <td>-0.6</td>\n",
       "      <td>-0.6</td>\n",
       "      <td>-0.5</td>\n",
       "      <td>-0.4</td>\n",
       "      <td>-0.4</td>\n",
       "      <td>-0.4</td>\n",
       "      <td>-0.4</td>\n",
       "      <td>-0.3</td>\n",
       "    </tr>\n",
       "    <tr>\n",
       "      <th>1951</th>\n",
       "      <td>-0.2</td>\n",
       "      <td>-0.1</td>\n",
       "      <td>0.1</td>\n",
       "      <td>0.2</td>\n",
       "      <td>0.5</td>\n",
       "      <td>0.7</td>\n",
       "      <td>0.8</td>\n",
       "      <td>1.0</td>\n",
       "      <td>1.1</td>\n",
       "      <td>0.9</td>\n",
       "      <td>0.9</td>\n",
       "      <td>0.8</td>\n",
       "    </tr>\n",
       "    <tr>\n",
       "      <th>1952</th>\n",
       "      <td>0.6</td>\n",
       "      <td>0.5</td>\n",
       "      <td>0.4</td>\n",
       "      <td>0.1</td>\n",
       "      <td>-0.1</td>\n",
       "      <td>-0.2</td>\n",
       "      <td>-0.2</td>\n",
       "      <td>-0.2</td>\n",
       "      <td>-0.2</td>\n",
       "      <td>-0.1</td>\n",
       "      <td>0.0</td>\n",
       "      <td>0.1</td>\n",
       "    </tr>\n",
       "    <tr>\n",
       "      <th>1953</th>\n",
       "      <td>0.1</td>\n",
       "      <td>0.3</td>\n",
       "      <td>0.4</td>\n",
       "      <td>0.5</td>\n",
       "      <td>0.6</td>\n",
       "      <td>0.6</td>\n",
       "      <td>0.6</td>\n",
       "      <td>0.6</td>\n",
       "      <td>0.5</td>\n",
       "      <td>0.5</td>\n",
       "      <td>0.5</td>\n",
       "      <td>0.4</td>\n",
       "    </tr>\n",
       "    <tr>\n",
       "      <th>...</th>\n",
       "      <td>...</td>\n",
       "      <td>...</td>\n",
       "      <td>...</td>\n",
       "      <td>...</td>\n",
       "      <td>...</td>\n",
       "      <td>...</td>\n",
       "      <td>...</td>\n",
       "      <td>...</td>\n",
       "      <td>...</td>\n",
       "      <td>...</td>\n",
       "      <td>...</td>\n",
       "      <td>...</td>\n",
       "    </tr>\n",
       "    <tr>\n",
       "      <th>2017</th>\n",
       "      <td>0.0</td>\n",
       "      <td>0.2</td>\n",
       "      <td>0.4</td>\n",
       "      <td>0.4</td>\n",
       "      <td>0.3</td>\n",
       "      <td>0.2</td>\n",
       "      <td>-0.1</td>\n",
       "      <td>-0.3</td>\n",
       "      <td>-0.5</td>\n",
       "      <td>-0.8</td>\n",
       "      <td>-1.0</td>\n",
       "      <td>-1.0</td>\n",
       "    </tr>\n",
       "    <tr>\n",
       "      <th>2018</th>\n",
       "      <td>-1.0</td>\n",
       "      <td>-0.9</td>\n",
       "      <td>-0.7</td>\n",
       "      <td>-0.4</td>\n",
       "      <td>-0.2</td>\n",
       "      <td>0.0</td>\n",
       "      <td>0.2</td>\n",
       "      <td>0.4</td>\n",
       "      <td>0.5</td>\n",
       "      <td>0.7</td>\n",
       "      <td>0.8</td>\n",
       "      <td>0.9</td>\n",
       "    </tr>\n",
       "    <tr>\n",
       "      <th>2019</th>\n",
       "      <td>0.9</td>\n",
       "      <td>0.8</td>\n",
       "      <td>0.7</td>\n",
       "      <td>0.6</td>\n",
       "      <td>0.5</td>\n",
       "      <td>0.3</td>\n",
       "      <td>0.1</td>\n",
       "      <td>0.0</td>\n",
       "      <td>0.0</td>\n",
       "      <td>0.1</td>\n",
       "      <td>0.2</td>\n",
       "      <td>0.2</td>\n",
       "    </tr>\n",
       "    <tr>\n",
       "      <th>2020</th>\n",
       "      <td>0.2</td>\n",
       "      <td>0.2</td>\n",
       "      <td>0.1</td>\n",
       "      <td>-0.1</td>\n",
       "      <td>-0.2</td>\n",
       "      <td>-0.4</td>\n",
       "      <td>-0.7</td>\n",
       "      <td>-0.9</td>\n",
       "      <td>-0.9</td>\n",
       "      <td>-1.0</td>\n",
       "      <td>-1.0</td>\n",
       "      <td>-0.9</td>\n",
       "    </tr>\n",
       "    <tr>\n",
       "      <th>2021</th>\n",
       "      <td>-0.8</td>\n",
       "      <td>-0.7</td>\n",
       "      <td>-0.6</td>\n",
       "      <td>-0.5</td>\n",
       "      <td>-0.4</td>\n",
       "      <td>NaN</td>\n",
       "      <td>NaN</td>\n",
       "      <td>NaN</td>\n",
       "      <td>NaN</td>\n",
       "      <td>NaN</td>\n",
       "      <td>NaN</td>\n",
       "      <td>NaN</td>\n",
       "    </tr>\n",
       "  </tbody>\n",
       "</table>\n",
       "<p>73 rows × 12 columns</p>\n",
       "</div>"
      ],
      "text/plain": [
       "      Jan  Feb  Mar  Apr  May  Jun  Jul  Aug  Sep  Oct  Nov  Dec\n",
       "year                                                            \n",
       "1949 -0.2 -0.1  0.1  0.0 -0.2 -0.3 -0.5 -0.8 -0.9 -1.0 -1.2 -1.2\n",
       "1950 -1.2 -1.0 -0.9 -0.8 -0.6 -0.6 -0.5 -0.4 -0.4 -0.4 -0.4 -0.3\n",
       "1951 -0.2 -0.1  0.1  0.2  0.5  0.7  0.8  1.0  1.1  0.9  0.9  0.8\n",
       "1952  0.6  0.5  0.4  0.1 -0.1 -0.2 -0.2 -0.2 -0.2 -0.1  0.0  0.1\n",
       "1953  0.1  0.3  0.4  0.5  0.6  0.6  0.6  0.6  0.5  0.5  0.5  0.4\n",
       "...   ...  ...  ...  ...  ...  ...  ...  ...  ...  ...  ...  ...\n",
       "2017  0.0  0.2  0.4  0.4  0.3  0.2 -0.1 -0.3 -0.5 -0.8 -1.0 -1.0\n",
       "2018 -1.0 -0.9 -0.7 -0.4 -0.2  0.0  0.2  0.4  0.5  0.7  0.8  0.9\n",
       "2019  0.9  0.8  0.7  0.6  0.5  0.3  0.1  0.0  0.0  0.1  0.2  0.2\n",
       "2020  0.2  0.2  0.1 -0.1 -0.2 -0.4 -0.7 -0.9 -0.9 -1.0 -1.0 -0.9\n",
       "2021 -0.8 -0.7 -0.6 -0.5 -0.4  NaN  NaN  NaN  NaN  NaN  NaN  NaN\n",
       "\n",
       "[73 rows x 12 columns]"
      ]
     },
     "execution_count": 3,
     "metadata": {},
     "output_type": "execute_result"
    }
   ],
   "source": [
    "df"
   ]
  },
  {
   "cell_type": "markdown",
   "id": "63808218",
   "metadata": {},
   "source": [
    "1月，2月，12月を選び1次元の配列にします。"
   ]
  },
  {
   "cell_type": "code",
   "execution_count": 16,
   "id": "20b8c7c9",
   "metadata": {},
   "outputs": [],
   "source": [
    "nino3 = df.loc[:\"2020-12\", [\"Jan\", \"Feb\", \"Dec\"]].to_numpy().flatten()"
   ]
  },
  {
   "cell_type": "markdown",
   "id": "0a8e1b6c",
   "metadata": {},
   "source": [
    "* 5行目: NCEP再解析データを取得します。\n",
    "* 6行目: NINO.3に合わせて1949年1月からとし，850 hPa，東経120～東経150度，北緯50度～北緯20度を切り出します。\n",
    "* 7行目: 12月，1月，2月（DJF）のみを残します。\n",
    "* 8行目: 各格子点が代表する面積に比例するように，cos(緯度)の重みを掛けます。\n",
    "* 9行目: 領域平均を計算します。\n",
    "* 10行目: 月別気候値を計算します。\n",
    "* 11行目: 線型トレンドを除去します。"
   ]
  },
  {
   "cell_type": "code",
   "execution_count": 18,
   "id": "215a8ac4",
   "metadata": {},
   "outputs": [],
   "source": [
    "import xarray as xr\n",
    "from scipy.signal import detrend\n",
    "\n",
    "\n",
    "ds = xr.open_dataset(\"https://psl.noaa.gov/thredds/dodsC/Datasets/ncep.reanalysis.derived/pressure/air.mon.mean.nc\")\n",
    "T = ds.air.loc[\"1949-01\":\"2020-12\", 850, 50:20, 120:150]\n",
    "T = T.loc[T.time.dt.season==\"DJF\"]\n",
    "T *= np.cos(np.deg2rad(T.lat))\n",
    "T = T.mean([\"lat\", \"lon\"])\n",
    "Tc = T.groupby(\"time.month\").mean(\"time\")\n",
    "Ta = detrend(T.groupby(\"time.month\") - Tc)"
   ]
  },
  {
   "cell_type": "markdown",
   "id": "efba83b2",
   "metadata": {},
   "source": [
    "データを散布図に描き，線型回帰とHuber回帰を行います。\n",
    "どちらも傾きは正でNINO.3が大きいと暖冬傾向ですが，Huber回帰の方が傾きがやや大きくなりました。"
   ]
  },
  {
   "cell_type": "code",
   "execution_count": 24,
   "id": "bdd9fcfc",
   "metadata": {},
   "outputs": [
    {
     "data": {
      "image/png": "[encoded data removed]",
      "text/plain": [
       "<Figure size 576x576 with 1 Axes>"
      ]
     },
     "metadata": {
      "needs_background": "light"
     },
     "output_type": "display_data"
    }
   ],
   "source": [
    "import matplotlib.pyplot as plt\n",
    "\n",
    "from sklearn.datasets import make_regression\n",
    "from sklearn.linear_model import LinearRegression, HuberRegressor\n",
    "\n",
    "fig, ax = plt.subplots(figsize=[8, 8])\n",
    "ax.scatter(nino3, Ta)\n",
    "\n",
    "lin = LinearRegression()\n",
    "lin.fit(nino3[:, None], Ta)\n",
    "y_linear = lin.coef_ * nino3 + lin.intercept_\n",
    "ax.plot(nino3, y_linear, label=\"linear\")\n",
    "\n",
    "c = 1.5\n",
    "hub = HuberRegressor(alpha=0.0, epsilon=c)\n",
    "hub.fit(nino3[:, None], Ta)\n",
    "y_huber = hub.coef_ * nino3 + hub.intercept_\n",
    "ax.plot(nino3, y_huber, label=f\"Huber {c}\")\n",
    "ax.set(aspect=1, xlabel=\"NINO.3\", ylabel=\"T anomaly\")\n",
    "ax.legend()\n",
    "plt.show()"
   ]
  }
 ],
 "metadata": {
  "celltoolbar": "Tags",
  "kernelspec": {
   "display_name": "Python 3 (ipykernel)",
   "language": "python",
   "name": "python3"
  },
  "language_info": {
   "codemirror_mode": {
    "name": "ipython",
    "version": 3
   },
   "file_extension": ".py",
   "mimetype": "text/x-python",
   "name": "python",
   "nbconvert_exporter": "python",
   "pygments_lexer": "ipython3",
   "version": "3.9.6"
  }
 },
 "nbformat": 4,
 "nbformat_minor": 5
}
