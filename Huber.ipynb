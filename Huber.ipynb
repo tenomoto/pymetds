{
 "cells": [
  {
   "cell_type": "markdown",
   "id": "7a819d4f",
   "metadata": {},
   "source": [
    "## 回帰分析\n",
    "\n",
    "回帰分析とは，データから二つの変数間の関係を求める手法です。二つの変数xとyとの関係が線型で表されると仮定すると\n",
    "\\begin{equation}\n",
    "y = ax+b \\label{ax+b}\n",
    "\\end{equation}\n",
    "となります。回帰係数$a$と$b$を機械学習ライブラリ[scikit-learn](https://scikit-learn.org/)を使って求めてみましょう。"
   ]
  },
  {
   "cell_type": "markdown",
   "id": "3024b100",
   "metadata": {},
   "source": [
    "### 最小二乗法\n",
    "　データとの誤差を最小にするには，分散が最小になるように回帰係数を決めます。これを最小二乗法と呼び，得られた回帰係数を最小分散推定量といいます。以下の例では，テストデータを作成して`sklearn.linear_model`の線型回帰`LinearRegression`を使っています。\n"
   ]
  },
  {
   "cell_type": "code",
   "execution_count": 3,
   "id": "cbfcdec5",
   "metadata": {
    "collapsed": true,
    "jupyter": {
     "outputs_hidden": true
    },
    "tags": [
     "remove-output"
    ]
   },
   "outputs": [
    {
     "data": {
      "text/plain": [
       "<matplotlib.legend.Legend at 0x220d40ad490>"
      ]
     },
     "execution_count": 3,
     "metadata": {},
     "output_type": "execute_result"
    },
    {
     "data": {
      "image/png": "[encoded data removed]",
      "text/plain": [
       "<Figure size 432x288 with 1 Axes>"
      ]
     },
     "metadata": {
      "needs_background": "light"
     },
     "output_type": "display_data"
    }
   ],
   "source": [
    "import numpy as np\n",
    "import matplotlib.pyplot as plt\n",
    " \n",
    "from sklearn.datasets import make_regression\n",
    "from sklearn.linear_model import LinearRegression\n",
    " \n",
    "fig, ax = plt.subplots()\n",
    " \n",
    "rng = np.random.RandomState(0)\n",
    "X, y = make_regression(n_samples=20, n_features=1, random_state=0,\n",
    "                      noise=4.0, bias=100.0)\n",
    " \n",
    "ax.plot(X, y, 'k.')\n",
    " \n",
    "x = np.linspace(X.min(), X.max(), 7)\n",
    "lin = LinearRegression()\n",
    "lin.fit(X, y)\n",
    "y_linear = lin.coef_ * x + lin.intercept_\n",
    "ax.set_title(f\"$a$={lin.coef_[0]:.2f} $b$={lin.intercept_:.2f}\")\n",
    "ax.plot(x, y_linear, label=\"Linear\")\n",
    "ax.legend()"
   ]
  },
  {
   "cell_type": "markdown",
   "id": "5b49d66d",
   "metadata": {},
   "source": [
    "![linear_outliers](figures/linear_outliers.png)"
   ]
  },
  {
   "cell_type": "markdown",
   "id": "9bd7b274",
   "metadata": {},
   "source": [
    "図1 線型回帰。青い実線は<span style=\"color:red;\">●</span>のみ，橙色の実線は外れ値<span style=\"color:blue;\">●</span>を含む全てのデータから推定した場合の回帰直線。"
   ]
  },
  {
   "cell_type": "markdown",
   "id": "2d227ce1",
   "metadata": {},
   "source": [
    "### ロバスト推定\n",
    "\n",
    "実際のデータには直線から大きく外れた値が含まれることがあります。これを外れ値といいます。最小二乗法は外れ値に大きく影響を受けます。上の例では傾きは正（$a=12.44$）でしたが, わずか4点外れ値が入るだけで負（$a=-4.36$）になってしまいます（図1 橙色の実線）。これは外れ値に近づけた方が全体として分散の和を最も小さくなるからです。\n",
    "\n",
    "二つの変数の適切な関係を得るために，通常外れ値は除去してから最小二乗法を適用します。ここで問題となるのは，どれだけ外れたものを除去すれば良いかということです。またビッグデータには質の悪い値が混入するする可能性があり，個別に閾値を設け一つ一つ取り除くのは現実的ではありません。さらに厄介なのは，外れ値が意味を持つ場合です。例えば，発達した低気圧や台風の中心が観測点を通過し，周りに比べて低い気圧を観測した場合が該当します。観測網やモデルの解像度が粗い場合は，たまたま観測できた中心気圧は観測点含む領域を代表する値ではない，つまり代表性誤差があるデータとみなされます。一方中心気圧は顕著な現象を捉えた貴重なデータともいえます。\n",
    "\n",
    "最小二乗法のように推定を大きく変えることがなく，外れ値を含めた推定は可能でしょうか。外れ値が推定に大きな影響を与えてしまったのは，最小分散を得るために大きな重みを与えていたからです。裏返せば，値が外れるほど重みを小さくすればよいということになります。最小二乗法では分散つまり誤差の二乗を規準（ノルム）として誤差を評価しているため，乖離が大きくなると急激に値が大きくなります。二乗の代わりに絶対値をノルムとして用いると，変化は穏やかになります。0に近いところでは二乗，離れたところでは絶対値を用いたものをHuberノルムといいます。Huberノルムに基づくコスト函数を数式で表すと次のようになります。"
   ]
  },
  {
   "cell_type": "markdown",
   "id": "16484727",
   "metadata": {},
   "source": [
    "\\begin{equation}\n",
    "J(\\delta x) = \n",
    "\\begin{cases}\n",
    "\\frac{1}{2}\\frac{(\\delta x)^2}{\\sigma^2} &|\\delta x| \\le c\\\\\n",
    "\\frac{1}{2}\\frac{c|\\delta x|-c^2/2}{\\sigma^2}& |\\delta x| > c\\\\\n",
    "\\end{cases} \\label{huberloss}\n",
    "\\end{equation}"
   ]
  },
  {
   "cell_type": "markdown",
   "id": "a6aa2d4d",
   "metadata": {},
   "source": [
    "ここで$J$はコスト函数，$\\delta x$はデータとの乖離，$\\sigma^2$は誤差分散，$c$は遷移点を表します。乖離の絶対値$|\\delta x|$が$c$よりも大きいところでは1次函数，$c$以下では2次函数になっています。"
   ]
  },
  {
   "cell_type": "markdown",
   "id": "7aed57cb",
   "metadata": {},
   "source": [
    "![quadratic-Huberc.png](figures/quadratic-Huberc.png)"
   ]
  },
  {
   "cell_type": "markdown",
   "id": "c5674e89",
   "metadata": {},
   "source": [
    "図2 二乗ノルムとHuberノルムとの比較。横軸は乖離$\\delta x$，縦軸は誤差を評価するコスト函数を表す。青は二乗ノルム，橙はHuberノルム。"
   ]
  },
  {
   "cell_type": "markdown",
   "id": "73d92ac8",
   "metadata": {},
   "source": [
    "高収入の人を含めると，平均年収が高い方に引きずられることはよく知られていますが，外れ値は平均値にも大きく影響します。これに対し，データを順に並べたときに中位になる値である中央値はあまり影響を受けません。外れ値の影響を受けにくい推定手法をロバスト（robust，頑強）推定といいいます。Huberノルムを用いた回帰はロバスト推定の一つです。\n",
    "\n",
    "scikit-learnの`sklearn.linear_model`の`LinearRegression`を`HuberRegressor`に替えて，遷移点を指定するとHuber回帰ができます。"
   ]
  },
  {
   "cell_type": "code",
   "execution_count": 20,
   "id": "e6f9c4eb",
   "metadata": {
    "collapsed": true,
    "jupyter": {
     "outputs_hidden": true
    },
    "tags": [
     "remove-output"
    ]
   },
   "outputs": [
    {
     "data": {
      "text/plain": [
       "<matplotlib.legend.Legend at 0x213c7ea0e20>"
      ]
     },
     "execution_count": 20,
     "metadata": {},
     "output_type": "execute_result"
    },
    {
     "data": {
      "image/png": "[encoded data removed]",
      "text/plain": [
       "<Figure size 432x288 with 1 Axes>"
      ]
     },
     "metadata": {
      "needs_background": "light"
     },
     "output_type": "display_data"
    }
   ],
   "source": [
    "import numpy as np\n",
    "import matplotlib.pyplot as plt\n",
    " \n",
    "from sklearn.datasets import make_regression\n",
    "from sklearn.linear_model import LinearRegression, HuberRegressor\n",
    " \n",
    "fig, ax = plt.subplots()\n",
    " \n",
    "rng = np.random.RandomState(0)\n",
    "X, y = make_regression(n_samples=20, n_features=1, random_state=0,\n",
    "                      noise=4.0, bias=100.0)\n",
    " \n",
    "Xo = rng.normal(0, 0.5, size=(4, 1))\n",
    "yo = rng.normal(0, 2.0, size=4)\n",
    "Xo[:2, :] += X.max() + X.mean() / 4\n",
    "Xo[2:, :] += X.min() - X.mean() / 4\n",
    "yo[:2] += y.min() - y.mean() / 4\n",
    "yo[2:] += y.max() + y.mean() / 4\n",
    "X = np.vstack([X, Xo])\n",
    "y = np.concatenate([y, yo])\n",
    "ax.plot(X, y, 'k.')\n",
    " \n",
    "x = np.linspace(X.min(), X.max(), 7)\n",
    "lin = LinearRegression()\n",
    "lin.fit(X, y)\n",
    "y_linear = lin.coef_ * x + lin.intercept_\n",
    "ax.plot(x, y_linear, label=\"Linear\")\n",
    "c = 1.5\n",
    "hub = HuberRegressor(alpha=0.0, epsilon=c)\n",
    "hub.fit(X, y)\n",
    "y_huber = hub.coef_ * x + hub.intercept_\n",
    "ax.plot(x, y_huber, label=f\"Huber {c}\")\n",
    "ax.legend()"
   ]
  },
  {
   "cell_type": "markdown",
   "id": "badf7a41",
   "metadata": {},
   "source": [
    "![Linear_vs_Huber](figures/Linear_vs_Huber.png)"
   ]
  },
  {
   "cell_type": "markdown",
   "id": "4cd33f47",
   "metadata": {},
   "source": [
    "図3 線型回帰（青い実線）とHuber回帰（橙色の実線）。データは図1と同様。"
   ]
  },
  {
   "cell_type": "markdown",
   "id": "55451dcc",
   "metadata": {},
   "source": [
    "Huber回帰で得られた直線の傾きは$a=8.87$で，外れ値を除いた場合よりやや小さくなりましたが，外れ値の値を強く受けていないことが分かります。Huberノルムは，現業数値予報機関においてラジオゾンデデータ等現場観測の品質管理に用いられています。"
   ]
  },
  {
   "cell_type": "markdown",
   "id": "5cf582c3",
   "metadata": {},
   "source": [
    "## 主成分分析\n",
    "\n",
    "主成分分析は，回帰とともによく用いられる統計手法です。主成分分析は，ビッグデータを要約することができます。気象学では経験的直交函数（Empirical Orthogonal Functions, EOF），機械学習では次元削減手法として用いられる特異値分解，様々な分野の数値解析に用いられる固有値解析としても知られています。Numpyを使って手を動かしながらどのような手法か学んでいきましょう。\n",
    "\n",
    "100個の観測が2組得られたとします。二つの組には何らかの関係があります。ばらつきの大きい方向を特異値解析で求めましょう。"
   ]
  },
  {
   "cell_type": "code",
   "execution_count": 16,
   "id": "9ee23ff7",
   "metadata": {
    "collapsed": true,
    "jupyter": {
     "outputs_hidden": true
    },
    "tags": [
     "remove-output"
    ]
   },
   "outputs": [
    {
     "data": {
      "image/png": "[encoded data removed]",
      "text/plain": [
       "<Figure size 360x360 with 1 Axes>"
      ]
     },
     "metadata": {
      "needs_background": "light"
     },
     "output_type": "display_data"
    }
   ],
   "source": [
    "import matplotlib.pyplot as plt\n",
    " \n",
    "m = 100\n",
    "rng = np.random.default_rng(0)\n",
    "x = rng.standard_normal(m)\n",
    "x = (x - x.mean()) / x.std()\n",
    "y = x + rng.random(m)\n",
    "y = (y - y.mean()) / y.std()\n",
    " \n",
    "X = np.array([x, y]).transpose()\n",
    "m, n = X.shape\n",
    "U, s, Vt = np.linalg.svd(X)\n",
    "V = Vt.transpose()\n",
    " \n",
    "fig, ax = plt.subplots(figsize=(5, 5))\n",
    "ax.scatter(x, y, color='gray')\n",
    "c = [\"r\", \"b\"]\n",
    "for i in range(n):\n",
    "   ax.quiver(s[i]*V[0, i], s[i]*V[1, i],\n",
    "             units='xy', angles='xy', scale=8, color=c[i])\n",
    "ax.set_aspect('equal')"
   ]
  },
  {
   "cell_type": "markdown",
   "id": "ddabf18d",
   "metadata": {},
   "source": [
    "![svd](figures/svd.png)"
   ]
  },
  {
   "cell_type": "markdown",
   "id": "8dc6129f",
   "metadata": {},
   "source": [
    "図4 特異値解析。●はデータ，→は右特異ベクトルで特異値に比例させている。赤，青はそれぞれ1番目，2番目に分散が大きい方向。"
   ]
  },
  {
   "cell_type": "markdown",
   "id": "2fb2e4f3",
   "metadata": {},
   "source": [
    "乱数で`x`を生成し，それを少し乱した`y`を作ります。標準化した後100×2の配列`X`にまとめます。これを`np.linalg.svd()`で特異値分解をしてばらつきの大きい方向（固有ベクトル）を求めています。\n",
    "\n",
    "ここで，特異値解析と固有値解析との関係についておさらいをしておきます。ここではデータは実数とします。特異値分解は，$m$個のデータ$n$組を並べた$m\\times n$行列$\\mathbf{X}$を\n",
    "\\begin{equation}\n",
    "\\mathbf{X} = \\mathbf{USV}^T\\label{svd}\n",
    "\\end{equation}\n",
    "のように分解するものです。$\\mathbf{U}$は$m\\times m$行列，$\\mathbf{S}$は$m\\times n$行列，$\\mathbf{V}$は$n\\times n$行列です。$\\mathbf{U}$は左特異ベクトル，$\\mathbf{V}$は右特異ベクトルと呼ばれています。特異値は$\\mathbf{S}$の対角成分として最大$m$と$n$の小さい方の個数（$p = \\min(m, n)$）が得られます。$\\mathbf{U}$と$\\mathbf{V}$はともに直交行列で$\\mathbf{U}^T\\mathbf{U}=\\mathbf{UU}^T=\\mathbf{I}$，$\\mathbf{V}^T\\mathbf{V}=\\mathbf{VV}^T=\\mathbf{I}$が成り立ちます。\n",
    "\n",
    "行列Xの要素が偏差であるとします。年々変動の問題を考えている場合は，偏差は各年の値から平年値を引いた値です。$j$番目の偏差は行列$\\mathbf{X}$の$j$番目の列ベクトル$\\mathbf{x}_j$で表されます。$j$番目の偏差同士の内積$\\mathbf{x}_j^T\\mathbf{x}_j$は分散，異なる列$i≠jj$の内積$\\mathbf{x}_i^T\\mathbf{x}_j$は共分散を表します。まとめて共分散行列$\\mathbf{C}=\\mathbf{X}^T\\mathbf{X}$と書き表すことができます。共分散行列の対角成分は分散，非対角成分は共分散を表します。式(\\ref{svd})の両辺の転置をとり右から掛けます。$\\mathbf{U}$が直交行列であることを利用すると\n",
    "\\begin{equation}\n",
    "\\mathbf{C} = \\mathbf{X}^T\\mathbf{X} = \\mathbf{VS}^2\\mathbf{V}^T\\label{covar}\n",
    "\\end{equation}\n",
    "が得られます。右から直交行列$\\mathbf{V}$を掛けると\n",
    "\\begin{equation}\n",
    "\\mathbf{CV} = \\mathbf{VS}^2\\label{eigen}\n",
    "\\end{equation}\n",
    "となり，固有値問題$\\mathbf{Cv} = \\lambda\\mathbf{v}$を行列で表したものが得られました。つまり，$\\lambda = s_{ii}^2$すなわち特異値の二乗が固有値です。\n",
    "\n",
    "図4の赤矢印が示すように，1番目の特異ベクトルは分散が最大の方向，2番目の矢印は1番目のベクトルと直交するのもののうち，分散が最大になる方向を表します。ただし，図4の例は2次元なので，2番目の方向は青矢印の方向に自動的に決まってしまいます。$\\mathbf{V}$の列は固有値（特異値）に対応する固有ベクトル$\\mathbf{v}$を表しています。統計学では，データに回帰させた$\\mathbf{Xv}$を主成分と呼んでいます。年々変動の例では空間パターンを表し，気象学では$j$番目の主成分をEOF第$j$モードと呼んでいます。固有値の和に対する各モードの固有値の比\n",
    "\\begin{equation}\n",
    "\\frac{s_j^2}{\\sum_{j=1}^p s_j^2}\\label{contribution}\n",
    "\\end{equation}\n",
    "を寄与率といいます。1番目からj番目までの寄与率の和（累積寄与率）が例えば80%を超えているとすると，第$j$モードまででデータの特性を8割説明することができることになります。jは$p = \\min(m, n)$よりも小さいので，少ないモードでデータを表す次元縮約が実現できることになります。"
   ]
  },
  {
   "cell_type": "code",
   "execution_count": null,
   "id": "65d3ac6f",
   "metadata": {},
   "outputs": [],
   "source": []
  }
 ],
 "metadata": {
  "celltoolbar": "Tags",
  "kernelspec": {
   "display_name": "Python 3",
   "language": "python",
   "name": "python3"
  },
  "language_info": {
   "codemirror_mode": {
    "name": "ipython",
    "version": 3
   },
   "file_extension": ".py",
   "mimetype": "text/x-python",
   "name": "python",
   "nbconvert_exporter": "python",
   "pygments_lexer": "ipython3",
   "version": "3.9.6"
  }
 },
 "nbformat": 4,
 "nbformat_minor": 5
}
