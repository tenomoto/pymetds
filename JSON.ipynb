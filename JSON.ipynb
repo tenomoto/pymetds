{
 "cells": [
  {
   "cell_type": "markdown",
   "id": "8643e957",
   "metadata": {},
   "source": [
    "## アメダス\n",
    "\n",
    "データを使う場合に重要なのはデータに関する基本的な知識です。まず気象庁ウェブサイトの「知識・解説」の中に[地域気象観測システム（アメダス）](https://www.jma.go.jp/jma/kishou/know/amedas/kaisetsu.html)を見てどのような気象要素をどこで観測しているのか確認します。アメダスの観測所一覧はCSVをZIP圧縮した形式でも提供されていますが，JSON形式で取得して地図に描いてみましょう。\n",
    "\n",
    "### 観測所一覧\n",
    "\n",
    "ファイルをダウンロードするPythonの標準ライブラリには[urllib.request](https://docs.python.org/3/library/urllib.request.html)がありますが，[Requests](https://docs.python-requests.org/en/master/)を使うと便利です。ダウンロードは失敗する可能性があるので，[例外](https://docs.python.org/ja/3/tutorial/errors.html)が発生する可能性があります。[with](https://docs.python.org/ja/3/reference/compound_stmts.html#the-with-statement)文を使うと，例外が発生せずURLを開けた場合にのみ，ブロック（字下げされた文のまとまり）が実行されます。返り値`as`の後の変数に格納されます。これはURLやファイルを開くときの定型の書き方です。\n",
    "\n",
    "`requests.get()`から返されるオブジェクト`requests.Response`は`reponse`に格納されます。[オブジェクト](https://docs.python.org/ja/3/tutorial/classes.html)とはデータやデータに対するメソッド（操作）をまとめたものです。"
   ]
  },
  {
   "cell_type": "code",
   "execution_count": 1,
   "id": "a0e4da1a",
   "metadata": {
    "lines_to_next_cell": 0
   },
   "outputs": [],
   "source": [
    "import pandas as pd\n",
    "import requests\n",
    "\n",
    "url = \"https://www.jma.go.jp/bosai/amedas/const/amedastable.json\"\n",
    "with requests.get(url) as response:\n",
    "    json = response.json()\n",
    "    df = pd.DataFrame(json).transpose()"
   ]
  },
  {
   "cell_type": "code",
   "execution_count": 2,
   "id": "db27f1f6",
   "metadata": {},
   "outputs": [
    {
     "data": {
      "text/html": [
       "<div>\n",
       "<style scoped>\n",
       "    .dataframe tbody tr th:only-of-type {\n",
       "        vertical-align: middle;\n",
       "    }\n",
       "\n",
       "    .dataframe tbody tr th {\n",
       "        vertical-align: top;\n",
       "    }\n",
       "\n",
       "    .dataframe thead th {\n",
       "        text-align: right;\n",
       "    }\n",
       "</style>\n",
       "<table border=\"1\" class=\"dataframe\">\n",
       "  <thead>\n",
       "    <tr style=\"text-align: right;\">\n",
       "      <th></th>\n",
       "      <th>type</th>\n",
       "      <th>elems</th>\n",
       "      <th>lat</th>\n",
       "      <th>lon</th>\n",
       "      <th>alt</th>\n",
       "      <th>kjName</th>\n",
       "      <th>knName</th>\n",
       "      <th>enName</th>\n",
       "    </tr>\n",
       "  </thead>\n",
       "  <tbody>\n",
       "    <tr>\n",
       "      <th>11001</th>\n",
       "      <td>C</td>\n",
       "      <td>11112010</td>\n",
       "      <td>[45, 31.2]</td>\n",
       "      <td>[141, 56.1]</td>\n",
       "      <td>26</td>\n",
       "      <td>宗谷岬</td>\n",
       "      <td>ソウヤミサキ</td>\n",
       "      <td>Cape Soya</td>\n",
       "    </tr>\n",
       "    <tr>\n",
       "      <th>11016</th>\n",
       "      <td>A</td>\n",
       "      <td>11111111</td>\n",
       "      <td>[45, 24.9]</td>\n",
       "      <td>[141, 40.7]</td>\n",
       "      <td>3</td>\n",
       "      <td>稚内</td>\n",
       "      <td>ワッカナイ</td>\n",
       "      <td>Wakkanai</td>\n",
       "    </tr>\n",
       "    <tr>\n",
       "      <th>11046</th>\n",
       "      <td>C</td>\n",
       "      <td>11112000</td>\n",
       "      <td>[45, 18.3]</td>\n",
       "      <td>[141, 2.7]</td>\n",
       "      <td>65</td>\n",
       "      <td>礼文</td>\n",
       "      <td>レブン</td>\n",
       "      <td>Rebun</td>\n",
       "    </tr>\n",
       "    <tr>\n",
       "      <th>11061</th>\n",
       "      <td>C</td>\n",
       "      <td>11110100</td>\n",
       "      <td>[45, 24.2]</td>\n",
       "      <td>[141, 48.1]</td>\n",
       "      <td>8</td>\n",
       "      <td>声問</td>\n",
       "      <td>コエトイ：稚内空港</td>\n",
       "      <td>Koetoi</td>\n",
       "    </tr>\n",
       "    <tr>\n",
       "      <th>11076</th>\n",
       "      <td>C</td>\n",
       "      <td>11112100</td>\n",
       "      <td>[45, 20.1]</td>\n",
       "      <td>[142, 10.2]</td>\n",
       "      <td>13</td>\n",
       "      <td>浜鬼志別</td>\n",
       "      <td>ハマオニシベツ</td>\n",
       "      <td>Hamaoni-Shibetsu</td>\n",
       "    </tr>\n",
       "    <tr>\n",
       "      <th>...</th>\n",
       "      <td>...</td>\n",
       "      <td>...</td>\n",
       "      <td>...</td>\n",
       "      <td>...</td>\n",
       "      <td>...</td>\n",
       "      <td>...</td>\n",
       "      <td>...</td>\n",
       "      <td>...</td>\n",
       "    </tr>\n",
       "    <tr>\n",
       "      <th>94062</th>\n",
       "      <td>B</td>\n",
       "      <td>11111011</td>\n",
       "      <td>[24, 25.6]</td>\n",
       "      <td>[123, 45.9]</td>\n",
       "      <td>10</td>\n",
       "      <td>西表島</td>\n",
       "      <td>イリオモテジマ</td>\n",
       "      <td>Iriomotejima Island</td>\n",
       "    </tr>\n",
       "    <tr>\n",
       "      <th>94081</th>\n",
       "      <td>A</td>\n",
       "      <td>11111011</td>\n",
       "      <td>[24, 20.2]</td>\n",
       "      <td>[124, 9.8]</td>\n",
       "      <td>6</td>\n",
       "      <td>石垣島</td>\n",
       "      <td>イシガキジマ</td>\n",
       "      <td>Ishigakijima Island</td>\n",
       "    </tr>\n",
       "    <tr>\n",
       "      <th>94086</th>\n",
       "      <td>C</td>\n",
       "      <td>11110000</td>\n",
       "      <td>[24, 23.7]</td>\n",
       "      <td>[124, 14.7]</td>\n",
       "      <td>31</td>\n",
       "      <td>盛山</td>\n",
       "      <td>モリヤマ：新石垣空港</td>\n",
       "      <td>Moriyama</td>\n",
       "    </tr>\n",
       "    <tr>\n",
       "      <th>94101</th>\n",
       "      <td>C</td>\n",
       "      <td>11112000</td>\n",
       "      <td>[24, 15.9]</td>\n",
       "      <td>[123, 52.3]</td>\n",
       "      <td>33</td>\n",
       "      <td>大原</td>\n",
       "      <td>オオハラ</td>\n",
       "      <td>Ohara</td>\n",
       "    </tr>\n",
       "    <tr>\n",
       "      <th>94116</th>\n",
       "      <td>C</td>\n",
       "      <td>11112000</td>\n",
       "      <td>[24, 3.3]</td>\n",
       "      <td>[123, 46.0]</td>\n",
       "      <td>38</td>\n",
       "      <td>波照間</td>\n",
       "      <td>ハテルマ</td>\n",
       "      <td>Hateruma</td>\n",
       "    </tr>\n",
       "  </tbody>\n",
       "</table>\n",
       "<p>1295 rows × 8 columns</p>\n",
       "</div>"
      ],
      "text/plain": [
       "      type     elems         lat          lon alt kjName      knName  \\\n",
       "11001    C  11112010  [45, 31.2]  [141, 56.1]  26    宗谷岬      ソウヤミサキ   \n",
       "11016    A  11111111  [45, 24.9]  [141, 40.7]   3     稚内       ワッカナイ   \n",
       "11046    C  11112000  [45, 18.3]   [141, 2.7]  65     礼文         レブン   \n",
       "11061    C  11110100  [45, 24.2]  [141, 48.1]   8     声問   コエトイ：稚内空港   \n",
       "11076    C  11112100  [45, 20.1]  [142, 10.2]  13   浜鬼志別     ハマオニシベツ   \n",
       "...    ...       ...         ...          ...  ..    ...         ...   \n",
       "94062    B  11111011  [24, 25.6]  [123, 45.9]  10    西表島     イリオモテジマ   \n",
       "94081    A  11111011  [24, 20.2]   [124, 9.8]   6    石垣島      イシガキジマ   \n",
       "94086    C  11110000  [24, 23.7]  [124, 14.7]  31     盛山  モリヤマ：新石垣空港   \n",
       "94101    C  11112000  [24, 15.9]  [123, 52.3]  33     大原        オオハラ   \n",
       "94116    C  11112000   [24, 3.3]  [123, 46.0]  38    波照間        ハテルマ   \n",
       "\n",
       "                    enName  \n",
       "11001            Cape Soya  \n",
       "11016             Wakkanai  \n",
       "11046                Rebun  \n",
       "11061               Koetoi  \n",
       "11076     Hamaoni-Shibetsu  \n",
       "...                    ...  \n",
       "94062  Iriomotejima Island  \n",
       "94081  Ishigakijima Island  \n",
       "94086             Moriyama  \n",
       "94101                Ohara  \n",
       "94116             Hateruma  \n",
       "\n",
       "[1295 rows x 8 columns]"
      ]
     },
     "execution_count": 2,
     "metadata": {},
     "output_type": "execute_result"
    }
   ],
   "source": [
    "df"
   ]
  },
  {
   "cell_type": "markdown",
   "id": "23d133ac",
   "metadata": {},
   "source": [
    "サーバから`json()`メソッドを使うとPythonの辞書に変換されます。メソッドは`response.json()`（オブジェクトとメソッドの間にピリオド）のように呼び出します。\n",
    "\n",
    "リストはデータを`[]`で囲みましたが，辞書は`{}`で囲みます。要素は`key:value`のようにコロンの前に値を探す手がかりとなるキーを書きます。どんなキーがあるかは`keys()`メソッドで調べることができます。`json.keys()`でキー調べると，印字された最初のキーは`\"11001\"`です。`json[\"11001\"]`の値は辞書です。つまり，辞書の中に辞書が入れ子になっています。"
   ]
  },
  {
   "cell_type": "code",
   "execution_count": 3,
   "id": "a36a3e93",
   "metadata": {},
   "outputs": [
    {
     "data": {
      "text/plain": [
       "{'type': 'C',\n",
       " 'elems': '11112010',\n",
       " 'lat': [45, 31.2],\n",
       " 'lon': [141, 56.1],\n",
       " 'alt': 26,\n",
       " 'kjName': '宗谷岬',\n",
       " 'knName': 'ソウヤミサキ',\n",
       " 'enName': 'Cape Soya'}"
      ]
     },
     "execution_count": 3,
     "metadata": {},
     "output_type": "execute_result"
    }
   ],
   "source": [
    "json[\"11001\"]"
   ]
  },
  {
   "cell_type": "markdown",
   "id": "2364d2ae",
   "metadata": {},
   "source": [
    "辞書から[pandas](https://pandas.pydata.org/)の`DataFrame`に変換し，`transpose()`メソッドで行と列とを入れ替えます。`DataFrame`はpanasの中心となるデータ構造で表形式のデータの列や行にラベルをつけたものです。"
   ]
  },
  {
   "cell_type": "markdown",
   "id": "da6f6fed",
   "metadata": {},
   "source": [
    "typeは観測点の種類で，Aは管区気象台・地方気象台・沖縄気象台，Bは測候所・特別地域気象観測所（元測候所），Cは通常のアメダス，D, E, Fはそれぞれ父島気象観測所，南鳥島気象観測所，富士山特別気象観測所を表すものと思われます。elemsは観測要素で，順に気温，降水量，風向，風速，日照時間，積雪深，湿度，気圧の有（1）無（0）に対応しているようです。日照時間の2は観測ではなく推計気象分布に基づく推定値で，2021年3月2日から気象官署・特別地域気象観測所を除く地域気象観測所において提供されています。elemsの文字列だと気象要素の有無でフィルタしにくいので，1文字ずつ別の列に分解しましょう。"
   ]
  },
  {
   "cell_type": "code",
   "execution_count": 4,
   "id": "6355e884",
   "metadata": {},
   "outputs": [],
   "source": [
    "colnames = [\"temperature\", \"precipitation\", \"windDirection\",\n",
    "\"wind\", \"sunshine\", \"snowDepth\", \"humidity\", \"pressure\"]\n",
    "elems_split = np.array(df[\"elems\"].apply(list).to_list()).astype(\"int32\")\n",
    "for i in range(len(colnames)):\n",
    "    df[colnames[i]] = elems_split[:, i]"
   ]
  },
  {
   "cell_type": "markdown",
   "id": "fd000784",
   "metadata": {},
   "source": [
    "緯度latと経度lonは度と分のリストになっていますので，十進法に直します。DataFrameでは辞書のように列を選択できます。"
   ]
  },
  {
   "cell_type": "code",
   "execution_count": 5,
   "id": "ad4e4c87",
   "metadata": {},
   "outputs": [],
   "source": [
    "df[\"lat\"] = df[\"lat\"].str[0] + df[\"lat\"].str[1]/60\n",
    "df[\"lon\"] = df[\"lon\"].str[0] + df[\"lon\"].str[1]/60"
   ]
  },
  {
   "cell_type": "markdown",
   "id": "ce3bf41f",
   "metadata": {},
   "source": [
    "#### 散布図\n",
    "\n",
    "アメダスの位置を散布図で描いてみましょう。pandasには，matplotlibを使ってデータを可視化する機能があります。"
   ]
  },
  {
   "cell_type": "code",
   "execution_count": 7,
   "id": "9b37f4de",
   "metadata": {},
   "outputs": [
    {
     "data": {
      "image/png": "[encoded data removed]",
      "text/plain": [
       "<Figure size 504x360 with 1 Axes>"
      ]
     },
     "metadata": {
      "needs_background": "light"
     },
     "output_type": "display_data"
    }
   ],
   "source": [
    "df.plot.scatter(x=\"lon\", y=\"lat\", s=1, figsize=[7,5])\n",
    "plt.show()"
   ]
  },
  {
   "cell_type": "markdown",
   "id": "58c1ab7f",
   "metadata": {},
   "source": [
    "`x`と`y`に軸の値として用いる列を指定します。`s`と`figsize`はそれぞれ点や図のサイズを調整してるだけで，必須ではありません。\n",
    "\n",
    "アメダスは，日本全国津々浦々に展開されていることがよく分かります。"
   ]
  },
  {
   "cell_type": "markdown",
   "id": "408660c0",
   "metadata": {},
   "source": [
    "#### 最果てのアメダス\n",
    "\n",
    "DataFrameの扱い方を練習するために最果てのアメダスを探してみます。`max()`や`min()`メソッドを使うと最大最小が求められます。列は`df.lon`のように選ぶこともできます。`loc`はラベルに基づいた行の選択を行いますが，真偽値を用いることもできます。経度が最大，つまり最東端のアメダスを表示するには次のようにします。"
   ]
  },
  {
   "cell_type": "code",
   "execution_count": 8,
   "id": "03a743b0",
   "metadata": {},
   "outputs": [
    {
     "data": {
      "text/html": [
       "<div>\n",
       "<style scoped>\n",
       "    .dataframe tbody tr th:only-of-type {\n",
       "        vertical-align: middle;\n",
       "    }\n",
       "\n",
       "    .dataframe tbody tr th {\n",
       "        vertical-align: top;\n",
       "    }\n",
       "\n",
       "    .dataframe thead th {\n",
       "        text-align: right;\n",
       "    }\n",
       "</style>\n",
       "<table border=\"1\" class=\"dataframe\">\n",
       "  <thead>\n",
       "    <tr style=\"text-align: right;\">\n",
       "      <th></th>\n",
       "      <th>kjName</th>\n",
       "      <th>lon</th>\n",
       "      <th>lat</th>\n",
       "    </tr>\n",
       "  </thead>\n",
       "  <tbody>\n",
       "    <tr>\n",
       "      <th>44356</th>\n",
       "      <td>南鳥島</td>\n",
       "      <td>153.983333</td>\n",
       "      <td>24.288333</td>\n",
       "    </tr>\n",
       "  </tbody>\n",
       "</table>\n",
       "</div>"
      ],
      "text/plain": [
       "      kjName         lon        lat\n",
       "44356    南鳥島  153.983333  24.288333"
      ]
     },
     "execution_count": 8,
     "metadata": {},
     "output_type": "execute_result"
    }
   ],
   "source": [
    "df.loc[df.lon==df.lon.max(), [\"kjName\", \"lon\", \"lat\"]]"
   ]
  },
  {
   "cell_type": "markdown",
   "id": "5fe8fca7",
   "metadata": {},
   "source": [
    "ここでは，列を観測所の名前，経度，緯度に絞っています。\n",
    "\n",
    "#### 練習\n",
    "\n",
    "最も東，西，南のアメダスを探して地図に表示してください。"
   ]
  },
  {
   "cell_type": "code",
   "execution_count": 11,
   "id": "e7124151",
   "metadata": {},
   "outputs": [
    {
     "data": {
      "image/png": "[encoded data removed]",
      "text/plain": [
       "<Figure size 504x360 with 1 Axes>"
      ]
     },
     "metadata": {
      "needs_background": "light"
     },
     "output_type": "display_data"
    }
   ],
   "source": [
    "ax = df.plot.scatter(x=\"lon\", y=\"lat\", s=1, figsize=[7,5])\n",
    "df.loc[(df.lon==df.lon.min()) | (df.lon==df.lon.max()) |\n",
    "       (df.lat==df.lat.min()) | (df.lat==df.lat.max())].plot.scatter(\n",
    "        x=\"lon\", y=\"lat\", s=20, c=\"red\", marker=\"s\", ax=ax)\n",
    "plt.show()"
   ]
  },
  {
   "cell_type": "markdown",
   "id": "7f5bbd51",
   "metadata": {},
   "source": [
    "重ねて絵を描くには，最初の図の返り値（`Axes`オブジェクト）を変数`ax`に格納し，次のプロットで`ax`を指定します。\n",
    "\n",
    "### アメダスデータ\n",
    "\n",
    "最新のアメダス観測データを使って，pandasに慣れていきましょう。\n",
    "\n",
    "#### 最新の観測時刻の取得\n",
    "\n",
    "まず，最新の観測時刻を取得します。"
   ]
  },
  {
   "cell_type": "code",
   "execution_count": 12,
   "id": "92e8251d",
   "metadata": {
    "lines_to_next_cell": 0
   },
   "outputs": [
    {
     "data": {
      "text/plain": [
       "'2021-08-18T16:30:00+09:00'"
      ]
     },
     "execution_count": 12,
     "metadata": {},
     "output_type": "execute_result"
    }
   ],
   "source": [
    "url = \"https://www.jma.go.jp/bosai/amedas/data/latest_time.txt\"\n",
    "requests.get(url).text"
   ]
  },
  {
   "cell_type": "markdown",
   "id": "5261832d",
   "metadata": {},
   "source": [
    "のようにISO形式YYYY-mm-ddTHH:MM+09:00になっています。最新データ観測時刻を取得して，データのあるURLに使うYYYYmmddHHMMという形式に変換する関数を作ります。ISO形式に基づいて日付と時刻としてパース（解釈）し`datetime`形式に変換した後，`strftime()`メソッドで整形出力しています。"
   ]
  },
  {
   "cell_type": "code",
   "execution_count": 13,
   "id": "fbddb0e9",
   "metadata": {},
   "outputs": [],
   "source": [
    "import requests\n",
    "from datetime import datetime\n",
    "\n",
    "\n",
    "def get_latest():\n",
    "    url = \"https://www.jma.go.jp/bosai/amedas/data/latest_time.txt\"\n",
    "    with requests.get(url) as response:\n",
    "        return datetime.fromisoformat(response.text).strftime(\"%Y%m%d%H%M\")"
   ]
  },
  {
   "cell_type": "markdown",
   "id": "6d71d5f7",
   "metadata": {},
   "source": [
    "#### 最新の観測データの取得\n",
    "\n",
    "データを取得してDataFrameに格納します。"
   ]
  },
  {
   "cell_type": "code",
   "execution_count": 14,
   "id": "4e62ddd0",
   "metadata": {},
   "outputs": [],
   "source": [
    "latest = get_latest()\n",
    "url = \"https://www.jma.go.jp/bosai/amedas/data/map/\" + latest + \"00.json\"\n",
    "\n",
    "with requests.get(url) as response:\n",
    "    json = response.json()\n",
    "df_amedas = pd.DataFrame(json).transpose()"
   ]
  },
  {
   "cell_type": "markdown",
   "id": "3ceaf3a0",
   "metadata": {},
   "source": [
    "#### 前処理\n",
    "\n",
    "データ列は値と品質フラグのリストになっているので，値を表す最初の要素を残します。また`dropna()`メソッドでNaNを取り除きます。"
   ]
  },
  {
   "cell_type": "code",
   "execution_count": 15,
   "id": "d5f5c560",
   "metadata": {},
   "outputs": [],
   "source": [
    "for col in df_amedas.columns:\n",
    "    df_amedas[col] = df_amedas[col].dropna().str[0].dropna()"
   ]
  },
  {
   "cell_type": "markdown",
   "id": "76ccf772",
   "metadata": {},
   "source": [
    "観測点の経度と緯度を観測所一覧から追加します。\n"
   ]
  },
  {
   "cell_type": "code",
   "execution_count": 16,
   "id": "196d165c",
   "metadata": {},
   "outputs": [],
   "source": [
    "df_amedas[\"lon\"] = df.loc[df_amedas.index, \"lon\"]\n",
    "df_amedas[\"lat\"] = df.loc[df_amedas.index, \"lat\"]"
   ]
  },
  {
   "cell_type": "markdown",
   "id": "1e3d9014",
   "metadata": {},
   "source": [
    "#### データの可視化\n",
    "\n",
    "`describe()`メソッドを使うと，統計量（データ数，平均，標準偏差，最小，四分位数，最大）を表示します。また，`hist()`メソッドを呼ぶと，ヒストグラムで分布を確認することができます。"
   ]
  },
  {
   "cell_type": "code",
   "execution_count": 17,
   "id": "4407eee7",
   "metadata": {},
   "outputs": [
    {
     "data": {
      "image/png": "[encoded data removed]",
      "text/plain": [
       "<Figure size 432x288 with 1 Axes>"
      ]
     },
     "metadata": {
      "needs_background": "light"
     },
     "output_type": "display_data"
    }
   ],
   "source": [
    "df_amedas[\"temp\"].hist()\n",
    "plt.show()"
   ]
  },
  {
   "cell_type": "markdown",
   "id": "e4ed1298",
   "metadata": {},
   "source": [
    "気温の空間分布を表示するには，`plot.scatter()`メソッドを用います。`c`に`\"temp\"`を渡して`cmap`に好みのカラーマップを指定します。"
   ]
  },
  {
   "cell_type": "code",
   "execution_count": 18,
   "id": "27f151da",
   "metadata": {},
   "outputs": [
    {
     "data": {
      "image/png": "[encoded data removed]",
      "text/plain": [
       "<Figure size 504x360 with 2 Axes>"
      ]
     },
     "metadata": {
      "needs_background": "light"
     },
     "output_type": "display_data"
    }
   ],
   "source": [
    "df_amedas.plot.scatter(x=\"lon\", y=\"lat\", c=\"temp\",\n",
    "    s=5, cmap=\"coolwarm\", figsize=[7,5])\n",
    "plt.show()"
   ]
  },
  {
   "cell_type": "markdown",
   "id": "d5ef3f90",
   "metadata": {},
   "source": [
    "## 週間天気予報\n",
    "\n",
    "この節では，JSON形式で府県週間天気予報を取得してpandasの`DataFrame`にまとめてみましょう。まず，予報区の一覧をJSON形式で取得して辞書を作ります。"
   ]
  },
  {
   "cell_type": "code",
   "execution_count": 19,
   "id": "db3fb8f7",
   "metadata": {},
   "outputs": [],
   "source": [
    "import requests\n",
    "\n",
    "\n",
    "url = \"http://www.jma.go.jp/bosai/common/const/area.json\"\n",
    "with requests.get(url) as response:\n",
    "    area = response.json()"
   ]
  },
  {
   "cell_type": "markdown",
   "id": "097b937f",
   "metadata": {},
   "source": [
    "ここでは都府県（北海道は支庁，鹿児島県奄美地方と沖縄県は地方）を`area`の中から探します。キーから値ではなく，値からキーを探します。リスト内包表記を使うと短く書けます。\n",
    "\n",
    "`items()`メソッドでキー`k`と値`v`を一つずつ取り出します。`if`の条件に合う`k`をリストの要素とします。リストではなく単一の要素が必要なので，`[0]`をつけて最初の要素を取り出しています。このキーを使ってJSON形式の予報を取得し辞書に格納します。"
   ]
  },
  {
   "cell_type": "code",
   "execution_count": 20,
   "id": "7352f74d",
   "metadata": {},
   "outputs": [],
   "source": [
    "pref_code = [k for k, v in area[\"offices\"].items() if v[\"name\"] == \"千葉県\"][0]\n",
    "url = f\"https://www.jma.go.jp/bosai/forecast/data/forecast/{pref_code}.json\"\n",
    "with requests.get(url) as response:\n",
    "    forecast = response.json()"
   ]
  },
  {
   "cell_type": "markdown",
   "id": "1f9add23",
   "metadata": {},
   "source": [
    "予報に含まれる天気予報文はコードとして入っています。コードに対応する予報文は[天気予報](https://www.jma.go.jp/bosai/forecast/)のページのJavaScriptの中にあります。JavaScriptの該当部分からコードと予報文を対応させる辞書を作りました。"
   ]
  },
  {
   "cell_type": "code",
   "execution_count": null,
   "id": "198143de",
   "metadata": {},
   "outputs": [],
   "source": [
    "import json\n",
    "\n",
    "\n",
    "TELOPS = {100:[\"100.svg\",\"500.svg\",\"100\",\"晴\",\"CLEAR\"],（中略）, ...}\n",
    "\n",
    "wc_dict = {k:v[3] for k, v in TELOPS.items()}\n",
    "with open(\"weather_codes.txt\", \"w\") as outfile:\n",
    "    json.dump(wc_dict, outfile)"
   ]
  },
  {
   "cell_type": "markdown",
   "id": "31c1fc99",
   "metadata": {},
   "source": [
    "あらかじめJSON形式に変換したので，[json](https://docs.python.org/3/library/json.html)ライブラリの`load()`メソッドで読んでください。"
   ]
  },
  {
   "cell_type": "code",
   "execution_count": 21,
   "id": "9d8fc082",
   "metadata": {},
   "outputs": [],
   "source": [
    "import json\n",
    "\n",
    "\n",
    "with open(\"weather_codes.txt\", \"r\") as infile:\n",
    "    wc_dict = json.load(infile)"
   ]
  },
  {
   "cell_type": "markdown",
   "id": "95a92dce",
   "metadata": {},
   "source": [
    "それでは予報から府県週間予報を切り出します。府県週間予報は，0から最初で次の1番目にあります。そのうちキー`\"areas\"`に信頼度，雨の確率，天気コードが入っています。時刻はISO形式なのでPythonの`datetime`形式に変換して，DataFrameのインデックスとしました。DataFrameを使わずに，取り出したリストを活用することもできます。"
   ]
  },
  {
   "cell_type": "code",
   "execution_count": 22,
   "id": "627650c9",
   "metadata": {},
   "outputs": [
    {
     "data": {
      "text/html": [
       "<div>\n",
       "<style scoped>\n",
       "    .dataframe tbody tr th:only-of-type {\n",
       "        vertical-align: middle;\n",
       "    }\n",
       "\n",
       "    .dataframe tbody tr th {\n",
       "        vertical-align: top;\n",
       "    }\n",
       "\n",
       "    .dataframe thead th {\n",
       "        text-align: right;\n",
       "    }\n",
       "</style>\n",
       "<table border=\"1\" class=\"dataframe\">\n",
       "  <thead>\n",
       "    <tr style=\"text-align: right;\">\n",
       "      <th></th>\n",
       "      <th>weather</th>\n",
       "      <th>reliabilities</th>\n",
       "      <th>pops</th>\n",
       "    </tr>\n",
       "  </thead>\n",
       "  <tbody>\n",
       "    <tr>\n",
       "      <th>2021-08-19 00:00:00+09:00</th>\n",
       "      <td>曇時々晴</td>\n",
       "      <td></td>\n",
       "      <td></td>\n",
       "    </tr>\n",
       "    <tr>\n",
       "      <th>2021-08-20 00:00:00+09:00</th>\n",
       "      <td>曇時々晴</td>\n",
       "      <td></td>\n",
       "      <td>30</td>\n",
       "    </tr>\n",
       "    <tr>\n",
       "      <th>2021-08-21 00:00:00+09:00</th>\n",
       "      <td>曇時々晴</td>\n",
       "      <td>A</td>\n",
       "      <td>30</td>\n",
       "    </tr>\n",
       "    <tr>\n",
       "      <th>2021-08-22 00:00:00+09:00</th>\n",
       "      <td>曇時々晴</td>\n",
       "      <td>C</td>\n",
       "      <td>30</td>\n",
       "    </tr>\n",
       "    <tr>\n",
       "      <th>2021-08-23 00:00:00+09:00</th>\n",
       "      <td>曇時々晴</td>\n",
       "      <td>C</td>\n",
       "      <td>30</td>\n",
       "    </tr>\n",
       "    <tr>\n",
       "      <th>2021-08-24 00:00:00+09:00</th>\n",
       "      <td>曇時々晴</td>\n",
       "      <td>A</td>\n",
       "      <td>30</td>\n",
       "    </tr>\n",
       "    <tr>\n",
       "      <th>2021-08-25 00:00:00+09:00</th>\n",
       "      <td>曇時々晴</td>\n",
       "      <td>A</td>\n",
       "      <td>30</td>\n",
       "    </tr>\n",
       "  </tbody>\n",
       "</table>\n",
       "</div>"
      ],
      "text/plain": [
       "                          weather reliabilities pops\n",
       "2021-08-19 00:00:00+09:00    曇時々晴                   \n",
       "2021-08-20 00:00:00+09:00    曇時々晴                 30\n",
       "2021-08-21 00:00:00+09:00    曇時々晴             A   30\n",
       "2021-08-22 00:00:00+09:00    曇時々晴             C   30\n",
       "2021-08-23 00:00:00+09:00    曇時々晴             C   30\n",
       "2021-08-24 00:00:00+09:00    曇時々晴             A   30\n",
       "2021-08-25 00:00:00+09:00    曇時々晴             A   30"
      ]
     },
     "execution_count": 22,
     "metadata": {},
     "output_type": "execute_result"
    }
   ],
   "source": [
    "from datetime import datetime\n",
    "import pandas as pd\n",
    "\n",
    "f1 = forecast[1][\"timeSeries\"][0]\n",
    "wf = f1[\"areas\"][0]\n",
    "reliabilities = wf[\"reliabilities\"]\n",
    "pops = wf[\"pops\"]\n",
    "weather_codes = wf[\"weatherCodes\"]\n",
    "weather = [wc_dict[wc] for wc in weather_codes]\n",
    "valid = [datetime.fromisoformat(d) for d in f1[\"timeDefines\"]]\n",
    "pd.DataFrame({\"weather\":weather, \"reliabilities\":reliabilities, \"pops\":pops},\n",
    "             index=valid)"
   ]
  }
 ],
 "metadata": {
  "jupytext": {
   "cell_metadata_filter": "-all",
   "main_language": "python",
   "notebook_metadata_filter": "-all",
   "text_representation": {
    "extension": ".md",
    "format_name": "markdown"
   }
  },
  "kernelspec": {
   "display_name": "Python 3",
   "language": "python",
   "name": "python3"
  },
  "language_info": {
   "codemirror_mode": {
    "name": "ipython",
    "version": 3
   },
   "file_extension": ".py",
   "mimetype": "text/x-python",
   "name": "python",
   "nbconvert_exporter": "python",
   "pygments_lexer": "ipython3",
   "version": "3.9.6"
  }
 },
 "nbformat": 4,
 "nbformat_minor": 5
}
